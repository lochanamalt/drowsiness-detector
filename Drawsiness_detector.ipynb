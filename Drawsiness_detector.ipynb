{
 "cells": [
  {
   "cell_type": "code",
   "execution_count": 4,
   "metadata": {
    "scrolled": true
   },
   "outputs": [],
   "source": [
    "from scipy.spatial import distance as dist\n",
    "from imutils import face_utils\n",
    "from threading import Thread\n",
    "import numpy as np\n",
    "import playsound\n",
    "import imutils\n",
    "import dlib\n",
    "import cv2\n",
    "   \n",
    "def eye_aspect_ratio(eye):\n",
    "    # compute the euclidean distances between vertcil eye landmarks\n",
    "    a = dist.euclidean(eye[1], eye[5])\n",
    "    b = dist.euclidean(eye[2], eye[4])\n",
    "    # compute the euclidean distance between the horizontal eye landmark\n",
    "    c = dist.euclidean(eye[0], eye[3])\n",
    "    return (a + b) / (2.0 * c)\n",
    "\n",
    "\n",
    "thresh_value = 0.2 # threshold value of ear to detect drawsiness\n",
    "frames_to_alarm_on = 10 #number of consecutive frames the eye must be below the threshold to turn on the alarm\n",
    "counter = 0 #frame counter\n",
    "\n",
    "detector = dlib.get_frontal_face_detector()\n",
    "predictor = dlib.shape_predictor(\"shape_predictor_68_face_landmarks.dat\")\n",
    "alarm = \"alarm.wav\"\n",
    "\n",
    "cap = cv2.VideoCapture(\"video.mp4\")\n",
    "\n",
    "while(True):\n",
    "        ret, frame = cap.read()\n",
    "        image = imutils.resize(frame, width=800)\n",
    "        gray = cv2.cvtColor(image, cv2.COLOR_BGR2GRAY)\n",
    "\n",
    "        # detect faces in the grayscale image\n",
    "        rects = detector(gray, 1)\n",
    "        # loop over the face detections\n",
    "        for (i, rect) in enumerate(rects):\n",
    "                # determine the facial landmarks for the face region, then\n",
    "                # convert the facial landmark (x, y)-coordinates to a NumPy array\n",
    "                shape = predictor(gray, rect)\n",
    "                shape = face_utils.shape_to_np(shape)\n",
    "                \n",
    "                # extract the left and right eye coordinates\n",
    "                rightEye = shape[36:42]\n",
    "                leftEye = shape[42:48]\n",
    "                             \n",
    "                \n",
    "                #calculate EAR\n",
    "                leftEAR = eye_aspect_ratio(leftEye)\n",
    "                rightEAR = eye_aspect_ratio(rightEye)\n",
    "                ear = (leftEAR + rightEAR) / 2.0\n",
    "\n",
    "                # compute the convex hull for the left and right eye\n",
    "                leftEyeHull = cv2.convexHull(leftEye)\n",
    "                rightEyeHull = cv2.convexHull(rightEye)\n",
    "                cv2.drawContours(image, [leftEyeHull], -1, (0, 255, 0), 1)\n",
    "                cv2.drawContours(image, [rightEyeHull], -1, (0, 255, 0), 1)\n",
    "\n",
    "                cv2.putText(image, \"EAR: {:.2f}\".format(ear), (300, 30),cv2.FONT_HERSHEY_SIMPLEX, 0.7, (0, 0, 255), 2)\n",
    "                       \n",
    "                if ear < thresh_value:\n",
    "                    counter += 1\n",
    "                    if counter >= frames_to_alarm_on:\n",
    "                        t = Thread(target=playsound.playsound,\n",
    "                            args=(alarm,))\n",
    "                        t.deamon = True\n",
    "                        t.start()\n",
    "                        cv2.putText(image, \"DROWSINESS ALERT!\", (10, 30),cv2.FONT_HERSHEY_SIMPLEX, 0.7, (0, 0, 255), 2)\n",
    "                else:\n",
    "                    counter = 0\n",
    "                    \n",
    "        cv2.imshow('Drawsiness Detection Output',image)\n",
    "        if cv2.waitKey(1) & 0xFF == ord('q'):\n",
    "                break\n",
    "\n",
    "# When everything done, release the capture\n",
    "cap.release()\n",
    "cv2.destroyAllWindows()\n"
   ]
  },
  {
   "cell_type": "code",
   "execution_count": null,
   "metadata": {},
   "outputs": [],
   "source": [
    " "
   ]
  },
  {
   "cell_type": "code",
   "execution_count": null,
   "metadata": {},
   "outputs": [],
   "source": []
  }
 ],
 "metadata": {
  "kernelspec": {
   "display_name": "Python 3",
   "language": "python",
   "name": "python3"
  },
  "language_info": {
   "codemirror_mode": {
    "name": "ipython",
    "version": 3
   },
   "file_extension": ".py",
   "mimetype": "text/x-python",
   "name": "python",
   "nbconvert_exporter": "python",
   "pygments_lexer": "ipython3",
   "version": "3.7.3"
  }
 },
 "nbformat": 4,
 "nbformat_minor": 2
}
