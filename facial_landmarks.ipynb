{
 "cells": [
  {
   "cell_type": "code",
   "execution_count": 4,
   "metadata": {},
   "outputs": [],
   "source": [
    "\n",
    "# import the necessary packages\n",
    "from imutils import face_utils\n",
    "import numpy as np\n",
    "import imutils\n",
    "import dlib\n",
    "import cv2\n",
    "\n",
    "\n",
    "# initialize dlib's face detector and then create\n",
    "# the facial landmark predictor\n",
    "detector = dlib.get_frontal_face_detector()\n",
    "predictor = dlib.shape_predictor(\"shape_predictor_68_face_landmarks.dat\")\n",
    "\n",
    "#video stream from web cam\n",
    "cap = cv2.VideoCapture(0)\n",
    "\n",
    "while(True):\n",
    "        ret, frame = cap.read()\n",
    "        image = imutils.resize(frame, width=800)\n",
    "        gray = cv2.cvtColor(image, cv2.COLOR_BGR2GRAY)\n",
    "\n",
    "        # detect faces in the grayscale image\n",
    "        rects = detector(gray, 1)\n",
    "        # loop over the face detections\n",
    "        for (i, rect) in enumerate(rects):\n",
    "                # determine the facial landmarks for the face region, then\n",
    "                # convert the facial landmark (x, y)-coordinates to a NumPy\n",
    "                # array\n",
    "                shape = predictor(gray, rect)\n",
    "                shape = face_utils.shape_to_np(shape)\n",
    "\n",
    "                # convert dlib's rectangle to a OpenCV-style bounding box\n",
    "                # [i.e., (x, y, w, h)], then draw the face bounding box\n",
    "                (x, y, w, h) = face_utils.rect_to_bb(rect)\n",
    "                cv2.rectangle(image, (x, y), (x + w, y + h), (0, 255, 0), 3)\n",
    "\n",
    "                # show the face number\n",
    "                cv2.putText(image, \"Face {}\".format(i + 1), (x - 10, y - 10),\n",
    "                        cv2.FONT_HERSHEY_SIMPLEX, 0.5, (255, 0, 0), 2)\n",
    "\n",
    "                # loop over the (x, y)-coordinates for the facial landmarks\n",
    "                # and draw them on the image\n",
    "                for (x, y) in shape:\n",
    "                        cv2.circle(image, (x, y), 1, (0, 0, 255), 1)\n",
    "\n",
    "        # show the output image with the face detections + facial landmarks\n",
    "\n",
    "        cv2.imshow('Real Time Face Detection Output',image)\n",
    "        if cv2.waitKey(1) & 0xFF == ord('q'):\n",
    "                break\n",
    "\n",
    "# When everything done, release the capture\n",
    "cap.release()\n",
    "cv2.destroyAllWindows()\n"
   ]
  },
  {
   "cell_type": "code",
   "execution_count": null,
   "metadata": {},
   "outputs": [],
   "source": [
    " "
   ]
  }
 ],
 "metadata": {
  "kernelspec": {
   "display_name": "Python 3",
   "language": "python",
   "name": "python3"
  },
  "language_info": {
   "codemirror_mode": {
    "name": "ipython",
    "version": 3
   },
   "file_extension": ".py",
   "mimetype": "text/x-python",
   "name": "python",
   "nbconvert_exporter": "python",
   "pygments_lexer": "ipython3",
   "version": "3.7.3"
  }
 },
 "nbformat": 4,
 "nbformat_minor": 2
}
